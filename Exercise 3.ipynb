{
  "nbformat": 4,
  "nbformat_minor": 0,
  "metadata": {
    "colab": {
      "name": "first-sem.ipynb",
      "provenance": [],
      "collapsed_sections": [],
      "authorship_tag": "ABX9TyOeKU3p/r/9F7lQ6jq8yf+v",
      "include_colab_link": true
    },
    "kernelspec": {
      "name": "python3",
      "display_name": "Python 3"
    },
    "language_info": {
      "name": "python"
    }
  },
  "cells": [
    {
      "cell_type": "markdown",
      "metadata": {
        "id": "view-in-github",
        "colab_type": "text"
      },
      "source": [
        "<a href=\"https://colab.research.google.com/github/jeannemargaretguzon/first-year-schoolwork/blob/main/first_sem.ipynb\" target=\"_parent\"><img src=\"https://colab.research.google.com/assets/colab-badge.svg\" alt=\"Open In Colab\"/></a>"
      ]
    },
    {
      "cell_type": "markdown",
      "metadata": {
        "id": "cF_uhQ5s6gay"
      },
      "source": [
        "**PROGRAMMING EXERCISE 3-1:** The  volume  of  a  rectangular  box  is  given  by  the  formula, V=length  *  width  *  height. Design a program that will calculate and display the volume of a box whose dimensions are specified by the user. "
      ]
    },
    {
      "cell_type": "code",
      "metadata": {
        "id": "vC7-k0T-oLmP"
      },
      "source": [
        "#to show output for a while\n",
        "from time import sleep \n",
        "\n",
        "print(\"Enter the dimensions of the rectangular box\".center(5))\n",
        "rectangle_length = float(input(\"Enter the length: \"))\n",
        "rectangle_width = float(input(\"Enter the width: \"))\n",
        "rectangle_height = float(input(\"Enter the height: \"))\n",
        "rectangle_volume = (rectangle_width * rectangle_length * rectangle_height)\n",
        "\n",
        "print(\"\\nCalculating the volume of a rectangular box......\\n\")\n",
        "sleep(3)\n",
        "print(\" Length of the rectangle box: {:.2f}\".format(rectangle_length))\n",
        "print(\" Width of the rectangle box:  {:.2f}\".format(rectangle_width))\n",
        "print(\" Height of the rectangle box: {:.2f}\".format(rectangle_height)) \n",
        "print(\" Volume of the rectangle box: {:.2f}\".format(rectangle_volume))"
      ],
      "execution_count": null,
      "outputs": []
    },
    {
      "cell_type": "markdown",
      "metadata": {
        "id": "7SWZwE3XAKC9"
      },
      "source": [
        "**PROGRAMMING EXERCISE 3-2:** Prepare  a  program  that  converts  hours  to minutes  only. A  typical  conversion  should write the message: 3 hours is equal to 180 minutes "
      ]
    },
    {
      "cell_type": "code",
      "metadata": {
        "id": "cOzLbOqDAekI"
      },
      "source": [
        "#to show output for a while\n",
        "from time import sleep\n",
        "\n",
        "hour = int(input(\"Enter the hours:  \"))\n",
        "minute = hour * 60\n",
        "print(\"\\nCalculating the hours to minutes........\")\n",
        "sleep(3)\n",
        "print(\"{} hours is equal to {} minutes\".format(hour, minute))"
      ],
      "execution_count": null,
      "outputs": []
    },
    {
      "cell_type": "markdown",
      "metadata": {
        "id": "84mz-Uw0I_Z-"
      },
      "source": [
        "**PROGRAMMING EXERCISE 3-3:** Consider three numbers a, b, and c.  Write a program that will compute and display their sum, difference, product, quotients (a/ b/ c) and the sum of their squares.\n"
      ]
    },
    {
      "cell_type": "code",
      "metadata": {
        "id": "R3lDXRnsHOX8"
      },
      "source": [
        "a = int(input(\"Enter the value of a:  \"))\n",
        "b = int(input(\"Enter the value of b:  \"))\n",
        "c = int(input(\"Enter the value of c:  \"))\n",
        "\n",
        "sum = a + b + c\n",
        "difference = a - b - c\n",
        "quotient = a/ b/ c\n",
        "\n",
        "print(\"A: \", a)\n",
        "print(\"B: \", b)\n",
        "print(\"C: \", c)\n",
        "print(\"Sum of A, B, C:        \", sum)\n",
        "print(\"Difference of A, B, C: \", difference)\n",
        "print(\"Quotient of A, B, C:   \", quotient)"
      ],
      "execution_count": null,
      "outputs": []
    },
    {
      "cell_type": "markdown",
      "metadata": {
        "id": "ZdRmiO_sL7hf"
      },
      "source": [
        "**PROGRAMMING EXERCISE 3-4:** A  supermarket  sells  bags  of  mixed  candies. Four types of candies are offered. Candy a costs Php. 35.00/kg; Candy B cost Php. 45.00/ kg; candy C cost Php. 56.00/kg and Candy D  cost  Php.  57.50 kg. Write a program that will calculate and print the amount of bag of candies in terms of the weight of each type of candy as provided by the program user."
      ]
    },
    {
      "cell_type": "code",
      "metadata": {
        "id": "UPYAOjPdL68s"
      },
      "source": [
        "print(\"\\n1. Candy A\\tPHP 35.00 per kilogram\");\n",
        "print(\"\\n2. Candy B\\tPHP 45.00 per kilogram\");\n",
        "print(\"\\n3. Candy C\\tPHP 56.00 per kilogram\");\n",
        "print(\"\\n4. Candy D\\tPHP 57.50 per kilogram\\n\");\n",
        "a = int(input(\"What type of candy you want to buy?  \"))\n",
        "weight = int(input(\"\\nHow many kilograms do you want to buy?  \"))\n",
        "if (a == 1):\n",
        "  total_price = (weight * 35)\n",
        "  print(\"Total amount: PHP  \", total_price)\n",
        "elif (a == 2):\n",
        "  total_price = (weight * 45)\n",
        "  print(\"Total amount: PHP  \", total_price)\n",
        "elif (a == 3):\n",
        "  total_price = (weight * 56)\n",
        "  print(\"Total amount: PHP  \", total_price)\n",
        "elif (a == 4):\n",
        "  total_price = (weight * 57)\n",
        "  printf(\"Total amount: PHP \", total_price)\n",
        "else:\n",
        "  pass"
      ],
      "execution_count": null,
      "outputs": []
    },
    {
      "cell_type": "markdown",
      "metadata": {
        "id": "yfvtHp58Mijp"
      },
      "source": [
        "**PROGRAMMING EXERCISE 3-5:** Hypothetically speaking, on Mars a 100-pound person on Earth would weigh 38 pounds. On  Jupiter,  the  same person  weight  is  264  pounds. Write  a  program  that  will input the weight  of  a  person  in  pound  on Earth and displays the corresponding weight when the man is on Mars and on Jupiter.\n"
      ]
    },
    {
      "cell_type": "code",
      "metadata": {
        "id": "SguZZtYwMvD9"
      },
      "source": [
        "earth_weight = float(input(\"Enter the weight of the person on Earth (in pounds): \"))\n",
        "\n",
        "mars_weight = (earth_weight / 9.81) * 3.711\n",
        "jupiter_weight = (earth_weight / 9.81) * 24.79\n",
        "\n",
        "print(\"\\nWeight on Planets\")\n",
        "print(\" Earth weight:\t\t{:.2f} pounds\".format(earth_weight))\n",
        "print(\" Mars weight:\t\t{:.2f} pounds\".format(mars_weight))\n",
        "print(\" Jupiter weight:        {:.2f} pounds\".format(jupiter_weight))"
      ],
      "execution_count": null,
      "outputs": []
    }
  ]
}
