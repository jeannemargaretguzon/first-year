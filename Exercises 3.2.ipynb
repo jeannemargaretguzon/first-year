{
 "cells": [
  {
   "cell_type": "code",
   "execution_count": null,
   "source": [
    "THEY = 10\r\n",
    "THEM = 5\r\n",
    "YOU = 0\r\n",
    "\r\n",
    "ME = int(input(\"Enter the integer variable:\\t\"))\r\n",
    "\r\n",
    "#If  the  value  of  the  integer  variable  ME is less than 2 and greater than 0, assign the value of ME to integer variable YOU.\r\n",
    "if (ME < 0 and ME < 2):\r\n",
    "    YOU = ME\r\n",
    "#If the value of ME is 5, multiply variables THEY and THEM  and assign the results to variable YOU. \r\n",
    "elif (ME == 5):\r\n",
    "    YOU = THEY * THEM\r\n",
    "#If the value of ME is 2, increment YOU by 1. \r\n",
    "elif (ME == 2):\r\n",
    "    YOU = YOU + 1\r\n",
    "#If the value of ME is 7, decrement YOU by 4. Any other value of ME would display the value of YOU.\r\n",
    "elif (ME == 7):\r\n",
    "    YOU = YOU - 4\r\n",
    "else:\r\n",
    "    YOU = YOU\r\n",
    "    \r\n",
    "print(\"YOU = \" + str(YOU))\r\n",
    "    "
   ],
   "outputs": [],
   "metadata": {}
  },
  {
   "cell_type": "code",
   "execution_count": null,
   "source": [
    "Y = 5\r\n",
    "Z = 10\r\n",
    "\r\n",
    "JETT = int(input(\"Enter value of the JETT: \"))\r\n",
    "CHAR_VAR = str(input(\"Enter value of the variable: \"))\r\n",
    "\r\n",
    "#If the value of the character variable CHAR_VAR is ‘A’ or ‘a’, add 1 to integer variable JETT. \r\n",
    "if (CHAR_VAR == 'A' or CHAR_VAR == 'a'):\r\n",
    "    JETT = JETT + 1\r\n",
    "    print(JETT)\r\n",
    "#If the value of CHAR_VAR is ‘B’ or ‘b’, subtract Y from Z giving the value to JETT. \r\n",
    "elif (CHAR_VAR == 'B' or CHAR_VAR == 'b'):\r\n",
    "    JETT = Z - Y\r\n",
    "    print(JETT)\r\n",
    "#If the value of CHAR_VAR is ‘C’ or ‘c’, subtract Z from Y giving the value to JETT. \r\n",
    "elif (CHAR_VAR == 'C' or CHAR_VAR == 'c'):\r\n",
    "    JETT = Y - Z\r\n",
    "    print(JETT)\r\n",
    "else:\r\n",
    "    print(\"INVALID\")"
   ],
   "outputs": [],
   "metadata": {}
  },
  {
   "cell_type": "code",
   "execution_count": null,
   "source": [],
   "outputs": [],
   "metadata": {}
  }
 ],
 "metadata": {
  "kernelspec": {
   "display_name": "Python 3",
   "language": "python",
   "name": "python3"
  },
  "language_info": {
   "codemirror_mode": {
    "name": "ipython",
    "version": 3
   },
   "file_extension": ".py",
   "mimetype": "text/x-python",
   "name": "python",
   "nbconvert_exporter": "python",
   "pygments_lexer": "ipython3",
   "version": "3.8.8"
  }
 },
 "nbformat": 4,
 "nbformat_minor": 5
}