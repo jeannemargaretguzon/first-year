{
 "cells": [
  {
   "cell_type": "code",
   "execution_count": null,
   "id": "f8a3d13f",
   "metadata": {},
   "outputs": [],
   "source": [
    "THEY = 10\n",
    "THEM = 5\n",
    "YOU = 0\n",
    "\n",
    "ME = int(input(\"Enter the integer variable:\\t\"))\n",
    "\n",
    "#If  the  value  of  the  integer  variable  ME is less than 2 and greater than 0, assign the value of ME to integer variable YOU.\n",
    "if (ME < 0 and ME < 2):\n",
    "    YOU = ME\n",
    "#If the value of ME is 5, multiply variables THEY and THEM  and assign the results to variable YOU. \n",
    "elif (ME == 5):\n",
    "    YOU = THEY * THEM\n",
    "#If the value of ME is 2, increment YOU by 1. \n",
    "elif (ME == 2):\n",
    "    YOU = YOU + 1\n",
    "#If the value of ME is 7, decrement YOU by 4. Any other value of ME would display the value of YOU.\n",
    "elif (ME == 7):\n",
    "    YOU = YOU - 4\n",
    "else:\n",
    "    YOU = YOU\n",
    "    \n",
    "print(\"YOU = \" + str(YOU))\n",
    "    "
   ]
  },
  {
   "cell_type": "code",
   "execution_count": null,
   "id": "5a69f914",
   "metadata": {},
   "outputs": [],
   "source": [
    "Y = 5\n",
    "Z = 10\n",
    "\n",
    "JETT = int(input(\"Enter value of the JETT: \"))\n",
    "CHAR_VAR = str(input(\"Enter value of the variable: \"))\n",
    "\n",
    "#If the value of the character variable CHAR_VAR is ‘A’ or ‘a’, add 1 to integer variable JETT. \n",
    "if (CHAR_VAR == 'A' or CHAR_VAR == 'a'):\n",
    "    JETT = JETT + 1\n",
    "    print(JETT)\n",
    "#If the value of CHAR_VAR is ‘B’ or ‘b’, subtract Y from Z giving the value to JETT. \n",
    "elif (CHAR_VAR == 'B' or CHAR_VAR == 'b'):\n",
    "    JETT = Z - Y\n",
    "    print(JETT)\n",
    "#If the value of CHAR_VAR is ‘C’ or ‘c’, subtract Z from Y giving the value to JETT. \n",
    "elif (CHAR_VAR == 'C' or CHAR_VAR == 'c'):\n",
    "    JETT = Y - Z\n",
    "    print(JETT)\n",
    "else:\n",
    "    print(\"INVALID\")"
   ]
  },
  {
   "cell_type": "code",
   "execution_count": null,
   "id": "bc177161",
   "metadata": {},
   "outputs": [],
   "source": []
  }
 ],
 "metadata": {
  "kernelspec": {
   "display_name": "Python 3",
   "language": "python",
   "name": "python3"
  },
  "language_info": {
   "codemirror_mode": {
    "name": "ipython",
    "version": 3
   },
   "file_extension": ".py",
   "mimetype": "text/x-python",
   "name": "python",
   "nbconvert_exporter": "python",
   "pygments_lexer": "ipython3",
   "version": "3.8.8"
  }
 },
 "nbformat": 4,
 "nbformat_minor": 5
}
