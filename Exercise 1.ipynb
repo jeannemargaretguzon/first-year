{
 "cells": [
  {
   "cell_type": "code",
   "execution_count": null,
   "id": "4f88b8c4",
   "metadata": {},
   "outputs": [],
   "source": [
    "#DINOSAUR EXACT AGE\n",
    "\n",
    "dinoName = input (\"Dinosaur Name:\\t\")\n",
    "dinoBreed = input (\"Dinosaur Breed:\\t\")\n",
    "dinoYears = int(input (\"How many years the dinosaur lived?\\t\"))\n",
    "\n",
    "#Calculating \n",
    "dinoMonths = dinoYears * 12\n",
    "dinoDays = dinoMonths * 365\n",
    "dinoSeconds = dinoDays * 86400 \n",
    "\n",
    "print(\"{} a {} that lived total of - {} years, {} months, {} days, {} seconds,\".format(dinoName, dinoBreed, dinoYears, dinoMonths, dinoDays, dinoSeconds))"
   ]
  },
  {
   "cell_type": "code",
   "execution_count": null,
   "id": "3859cdd9",
   "metadata": {},
   "outputs": [],
   "source": [
    "#TRIANGLE HYPOTENUSE\n",
    "import math #for hypot function\n",
    "\n",
    "Triangle_SideA = int(input(\"First Side of Triangle: \"))\n",
    "Triangle_SideB = int(input(\"Second Side of Triangle: \"))\n",
    "\n",
    "#Calculating\n",
    "Triangle_Hypotenuse = math.hypot(Triangle_SideA, Triangle_SideB)\n",
    "\n",
    "print(\"{:.2f} is the hypotenuse of {} and {} triangle\".format(Triangle_Hypotenuse, Triangle_SideA, Triangle_SideB))"
   ]
  },
  {
   "cell_type": "code",
   "execution_count": null,
   "id": "115a2c78",
   "metadata": {},
   "outputs": [],
   "source": [
    "#CIRCLE CIRCUMFERENCE AND AREA\n",
    "import math\n",
    "\n",
    "Circle_Radius = float(input(\"Enter the radius of the circle:\\t\"))\n",
    "\n",
    "#Calculating\n",
    "Circle_Area = math.pi * (Circle_Radius**2)\n",
    "Circle_Circumference = 2* math.pi * Circle_Radius\n",
    "\n",
    "print(\"{} is the circumference of a circle with {} radius.\".format(Circle_Circumference, Circle_Radius))\n",
    "print(\"{} is the area of a circle with {} radius\".format(Circle_Area, Circle_Radius))"
   ]
  },
  {
   "cell_type": "code",
   "execution_count": null,
   "id": "26ae3721",
   "metadata": {},
   "outputs": [],
   "source": [
    "#DIVISIBILITY BY 9 \n",
    "A = int(input(\"A:\\t\"))\n",
    "\n",
    "if A%9 == 0:\n",
    "    print(\"DIVISIBLE BY 9\")\n",
    "else:\n",
    "    print(\"NOT DIVISIBLE BY \")"
   ]
  },
  {
   "cell_type": "code",
   "execution_count": 4,
   "id": "4c99282d",
   "metadata": {},
   "outputs": [
    {
     "name": "stdout",
     "output_type": "stream",
     "text": [
      "Enter the city pollution index: 40\n",
      "The city polllution index is UNPLEASANT\n"
     ]
    }
   ],
   "source": [
    "#POLL DEX TYPE OF THE CITY POLLUTION\n",
    "\n",
    "Poll_dex = int(input(\"Enter the city pollution index: \"))\n",
    "\n",
    "if (Poll_dex<35):\n",
    "    print(\"The city pollution index is PLEASANT\")\n",
    "elif (Poll_dex>60):\n",
    "    print(\"The city pollution index is HAZARDOUS\")\n",
    "else:\n",
    "    print(\"The city polllution index is UNPLEASANT\")"
   ]
  },
  {
   "cell_type": "code",
   "execution_count": 20,
   "id": "65cd6afd",
   "metadata": {},
   "outputs": [
    {
     "name": "stdout",
     "output_type": "stream",
     "text": [
      "Enter Y if you are recommended. Enter N if not: N\n",
      "Enter Height:300\n",
      "Enter Age:23\n",
      "Enter 1 if you're a citizen of this town. Enter 0 if not: 1\n",
      "ACCEPTED\n"
     ]
    }
   ],
   "source": [
    "#JEDI APPLICATION\n",
    "Recommendation = str(input(\"Enter Y if you are recommended. Enter N if not: \"))\n",
    "if (Recommendation == 'Y'):\n",
    "    print(\"ACCEPTED\")\n",
    "elif (Recommendation == 'N'):\n",
    "    Height = int(input(\"Enter Height:\"))\n",
    "    Age = int(input(\"Enter Age:\"))\n",
    "    Citizen = int(input(\"Enter 1 if you're a citizen of this town. Enter 0 if not: \"))\n",
    "    if Citizen == 1 and Height >= 200 and Age >= 21 and Age <= 25:\n",
    "        print(\"ACCEPTED\")\n",
    "    else: \n",
    "        print(\"REJECTED\")\n",
    "else:\n",
    "    pass"
   ]
  }
 ],
 "metadata": {
  "kernelspec": {
   "display_name": "Python 3",
   "language": "python",
   "name": "python3"
  },
  "language_info": {
   "codemirror_mode": {
    "name": "ipython",
    "version": 3
   },
   "file_extension": ".py",
   "mimetype": "text/x-python",
   "name": "python",
   "nbconvert_exporter": "python",
   "pygments_lexer": "ipython3",
   "version": "3.8.8"
  }
 },
 "nbformat": 4,
 "nbformat_minor": 5
}
